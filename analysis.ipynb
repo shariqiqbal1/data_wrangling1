{
 "cells": [
  {
   "cell_type": "code",
   "execution_count": 2,
   "metadata": {
    "collapsed": true
   },
   "outputs": [],
   "source": [
    "import pandas as pd\n",
    "import json\n",
    "from pandas.io.json import json_normalize"
   ]
  },
  {
   "cell_type": "code",
   "execution_count": 8,
   "metadata": {},
   "outputs": [
    {
     "data": {
      "text/plain": [
       "countryname\n",
       "People's Republic of China         19\n",
       "Republic of Indonesia              19\n",
       "Socialist Republic of Vietnam      17\n",
       "Republic of India                  16\n",
       "Republic of Yemen                  13\n",
       "People's Republic of Bangladesh    12\n",
       "Nepal                              12\n",
       "Kingdom of Morocco                 12\n",
       "Republic of Mozambique             11\n",
       "Africa                             11\n",
       "Name: countryshortname, dtype: int64"
      ]
     },
     "execution_count": 8,
     "metadata": {},
     "output_type": "execute_result"
    }
   ],
   "source": [
    "#1 Find the 10 countries with most projects\n",
    "\n",
    "df = pd.read_json('world_bank_projects.json')\n",
    "df.groupby(['countryname']).count().sort_values(['countrycode'], ascending=[False]).head(10)['countryshortname']\n",
    "\n",
    "#grouping and counting by countryname column  to fig out which countryname has most row records, then chaining the result to descending sort on any column and fetching top 10 records "
   ]
  },
  {
   "cell_type": "code",
   "execution_count": 10,
   "metadata": {},
   "outputs": [
    {
     "data": {
      "text/plain": [
       "[('Environment and natural resources management', 223),\n",
       " ('Rural development', 202),\n",
       " ('Human development', 197),\n",
       " ('Public sector governance', 184),\n",
       " ('Social protection and risk management', 158),\n",
       " ('Financial and private sector development', 130),\n",
       " ('', 122),\n",
       " ('Social dev/gender/inclusion', 119),\n",
       " ('Trade and integration', 72),\n",
       " ('Urban development', 47),\n",
       " ('Economic management', 33)]"
      ]
     },
     "execution_count": 10,
     "metadata": {},
     "output_type": "execute_result"
    }
   ],
   "source": [
    "#2 Find the top 10 major project themes using column 'mjtheme_namecode'\n",
    "\n",
    "from collections import Counter\n",
    "my_list = list()\n",
    "df = pd.read_json('world_bank_projects.json')\n",
    "for idx in range(len(df['mjtheme_namecode'])):\n",
    "    for i in range(len(df['mjtheme_namecode'][idx])):\n",
    "        my_list.append(df['mjtheme_namecode'][idx][i]['name'])\n",
    "c = Counter(my_list)\n",
    "c.most_common(11)\n",
    "\n",
    "#adding every code to a list and then finding the 10 most common ones"
   ]
  },
  {
   "cell_type": "code",
   "execution_count": 11,
   "metadata": {},
   "outputs": [
    {
     "data": {
      "text/plain": [
       "0      [{'code': '8', 'name': 'Human development'}, {...\n",
       "1      [{'code': '1', 'name': 'Economic management'},...\n",
       "2      [{'code': '5', 'name': 'Trade and integration'...\n",
       "3      [{'code': '7', 'name': 'Social dev/gender/incl...\n",
       "4      [{'code': '5', 'name': 'Trade and integration'...\n",
       "5      [{'code': '6', 'name': 'Social protection and ...\n",
       "6      [{'code': '2', 'name': 'Public sector governan...\n",
       "7      [{'code': '11', 'name': 'Environment and natur...\n",
       "8      [{'code': '10', 'name': 'Rural development'}, ...\n",
       "9      [{'code': '2', 'name': 'Public sector governan...\n",
       "10     [{'code': '10', 'name': 'Rural development'}, ...\n",
       "11     [{'code': '10', 'name': 'Rural development'}, ...\n",
       "12     [{'code': '4', 'name': 'placeholder_theme_name'}]\n",
       "13     [{'code': '5', 'name': 'Trade and integration'...\n",
       "14     [{'code': '6', 'name': 'Social protection and ...\n",
       "15     [{'code': '10', 'name': 'Rural development'}, ...\n",
       "16     [{'code': '10', 'name': 'Rural development'}, ...\n",
       "17     [{'code': '8', 'name': 'Human development'}, {...\n",
       "18     [{'code': '8', 'name': 'Human development'}, {...\n",
       "19     [{'code': '2', 'name': 'Public sector governan...\n",
       "20     [{'code': '7', 'name': 'Social dev/gender/incl...\n",
       "21     [{'code': '9', 'name': 'Urban development'}, {...\n",
       "22     [{'code': '7', 'name': 'Social dev/gender/incl...\n",
       "23     [{'code': '8', 'name': 'Human development'}, {...\n",
       "24     [{'code': '10', 'name': 'Rural development'}, ...\n",
       "25     [{'code': '11', 'name': 'Environment and natur...\n",
       "26     [{'code': '4', 'name': 'Financial and private ...\n",
       "27     [{'code': '11', 'name': 'Environment and natur...\n",
       "28     [{'code': '10', 'name': 'Rural development'}, ...\n",
       "29     [{'code': '7', 'name': 'Social dev/gender/incl...\n",
       "                             ...                        \n",
       "470    [{'code': '5', 'name': 'Trade and integration'...\n",
       "471    [{'code': '10', 'name': 'Rural development'}, ...\n",
       "472    [{'code': '11', 'name': 'Environment and natur...\n",
       "473    [{'code': '11', 'name': 'Environment and natur...\n",
       "474    [{'code': '9', 'name': 'Urban development'}, {...\n",
       "475    [{'code': '4', 'name': 'Financial and private ...\n",
       "476    [{'code': '10', 'name': 'Rural development'}, ...\n",
       "477    [{'code': '4', 'name': 'Financial and private ...\n",
       "478    [{'code': '2', 'name': 'Public sector governan...\n",
       "479    [{'code': '7', 'name': 'Social dev/gender/incl...\n",
       "480    [{'code': '2', 'name': 'Public sector governan...\n",
       "481    [{'code': '8', 'name': 'Human development'}, {...\n",
       "482    [{'code': '10', 'name': 'Rural development'}, ...\n",
       "483    [{'code': '11', 'name': 'Environment and natur...\n",
       "484    [{'code': '10', 'name': 'Rural development'}, ...\n",
       "485    [{'code': '8', 'name': 'Human development'}, {...\n",
       "486    [{'code': '2', 'name': 'Public sector governan...\n",
       "487    [{'code': '11', 'name': 'Environment and natur...\n",
       "488    [{'code': '8', 'name': 'Human development'}, {...\n",
       "489    [{'code': '9', 'name': 'Urban development'}, {...\n",
       "490    [{'code': '2', 'name': 'Public sector governan...\n",
       "491    [{'code': '10', 'name': 'Rural development'}, ...\n",
       "492    [{'code': '8', 'name': 'Human development'}, {...\n",
       "493    [{'code': '11', 'name': 'Environment and natur...\n",
       "494    [{'code': '6', 'name': 'Social protection and ...\n",
       "495    [{'code': '4', 'name': 'Financial and private ...\n",
       "496    [{'code': '8', 'name': 'Human development'}, {...\n",
       "497    [{'code': '10', 'name': 'Rural development'}, ...\n",
       "498    [{'code': '10', 'name': 'Rural development'}, ...\n",
       "499    [{'code': '9', 'name': 'Urban development'}, {...\n",
       "Name: mjtheme_namecode, Length: 500, dtype: object"
      ]
     },
     "execution_count": 11,
     "metadata": {},
     "output_type": "execute_result"
    }
   ],
   "source": [
    "#3 In 2 above you will notice that some entries have only the code and the name is missing. Create a dataframe with the missing names filled in\n",
    "\n",
    "from collections import Counter\n",
    "my_list = list()\n",
    "df = pd.read_json('world_bank_projects.json')\n",
    "for idx in range(len(df['mjtheme_namecode'])):\n",
    "    for i in range(len(df['mjtheme_namecode'][idx])):\n",
    "        if not df['mjtheme_namecode'][idx][i]['name']:\n",
    "            df['mjtheme_namecode'][idx][i]['name'] = 'placeholder_theme_name'\n",
    "df['mjtheme_namecode'] \n",
    "\n",
    "#parsing through all names and if blank value is found then replacing it with a placeholder string"
   ]
  },
  {
   "cell_type": "code",
   "execution_count": null,
   "metadata": {
    "collapsed": true
   },
   "outputs": [],
   "source": []
  }
 ],
 "metadata": {
  "kernelspec": {
   "display_name": "Python 3",
   "language": "python",
   "name": "python3"
  }
 },
 "nbformat": 4,
 "nbformat_minor": 2
}
